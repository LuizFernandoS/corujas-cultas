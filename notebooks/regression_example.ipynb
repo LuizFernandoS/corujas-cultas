{
 "cells": [
  {
   "cell_type": "code",
   "execution_count": 124,
   "id": "b6dc9ab5-7803-471e-8f33-fbe276fb9978",
   "metadata": {},
   "outputs": [],
   "source": [
    "import pandas as pd\n",
    "import matplotlib.pyplot as plt\n",
    "import numpy as np\n",
    "import seaborn as sns\n",
    "from sklearn.datasets import make_regression\n",
    "from tqdm import tqdm\n",
    "from itertools import combinations,product"
   ]
  },
  {
   "cell_type": "markdown",
   "id": "fc298d75-dfaf-40b9-859b-09b32ba5d2cc",
   "metadata": {},
   "source": [
    "# Como máquinas aprendem\n",
    "___"
   ]
  },
  {
   "cell_type": "code",
   "execution_count": 125,
   "id": "ee61dbe1-d486-428b-ae22-ed2dd840fbbf",
   "metadata": {},
   "outputs": [],
   "source": [
    "x,y = make_regression(n_samples=100,n_features=1,noise=30,bias=200,random_state=42)\n",
    "x = x.squeeze()"
   ]
  },
  {
   "cell_type": "markdown",
   "id": "5e78a59a-6dc9-49c8-8fa9-87e7dc66644e",
   "metadata": {},
   "source": [
    "Vamos verificar os dados"
   ]
  },
  {
   "cell_type": "code",
   "execution_count": 126,
   "id": "c60cf89a-db30-4a3d-b189-d0f3ce4ddf4d",
   "metadata": {},
   "outputs": [
    {
     "data": {
      "image/png": "[encoded data removed]",
      "text/plain": [
       "<Figure size 360x360 with 1 Axes>"
      ]
     },
     "metadata": {
      "needs_background": "light"
     },
     "output_type": "display_data"
    }
   ],
   "source": [
    "g = sns.relplot(x=x,y=y)\n",
    "g.set(xlabel='x',ylabel='y')\n",
    "plt.show()"
   ]
  },
  {
   "cell_type": "markdown",
   "id": "cecf8aa5-4a79-4313-ad21-e7f1572d2808",
   "metadata": {},
   "source": [
    "Será que conseguimos criar uma regra que para cada X podemos prever um Y? Podemos tentar chutar pela média."
   ]
  },
  {
   "cell_type": "code",
   "execution_count": 127,
   "id": "fa9b7cae-51c6-4eea-a77b-3046da1ec1b4",
   "metadata": {},
   "outputs": [
    {
     "data": {
      "image/png": "[encoded data removed]",
      "text/plain": [
       "<Figure size 360x360 with 1 Axes>"
      ]
     },
     "metadata": {
      "needs_background": "light"
     },
     "output_type": "display_data"
    }
   ],
   "source": [
    "g = sns.relplot(x=x,y=y)\n",
    "plt.axhline(y=y.mean(),color='black',ls='--',label=f'Média {round(y.mean(),2)}')\n",
    "g.set(xlabel='x',ylabel='y')\n",
    "plt.legend()\n",
    "plt.show()"
   ]
  },
  {
   "cell_type": "markdown",
   "id": "119c4eef-7d32-4809-9769-860d5f228060",
   "metadata": {},
   "source": [
    "Chutando pela média temos que, independente do valor de X, o valor de Y sempre vai ser o mesmo : a média. Podemos criar uma forma de avaliar o quanto acertamos?"
   ]
  },
  {
   "cell_type": "code",
   "execution_count": 128,
   "id": "ccf924dd-0cdf-4715-b1e7-4933ae441038",
   "metadata": {},
   "outputs": [],
   "source": [
    "def medir_resultado(real,predito):\n",
    "    return np.mean((real-predito)**2)"
   ]
  },
  {
   "cell_type": "code",
   "execution_count": 143,
   "id": "f9c3c91d-2a9e-4398-8beb-c069b0e36264",
   "metadata": {},
   "outputs": [],
   "source": [
    "## criando valor predito\n",
    "predito = np.array([np.mean(y) for _ in range(len(y))])"
   ]
  },
  {
   "cell_type": "code",
   "execution_count": 144,
   "id": "7bceba07-68b7-40ab-9cdb-247c6de3b390",
   "metadata": {},
   "outputs": [
    {
     "data": {
      "text/plain": [
       "2729.8802594847116"
      ]
     },
     "execution_count": 144,
     "metadata": {},
     "output_type": "execute_result"
    }
   ],
   "source": [
    "## medindo o resultado\n",
    "medir_resultado(y,predito)"
   ]
  },
  {
   "cell_type": "markdown",
   "id": "1e7f7937-fe9b-480b-b834-72d37ed1080c",
   "metadata": {},
   "source": [
    "Sabemos que a equaão da reta é \n",
    "\n",
    "> y = A*x + B\n",
    "\n",
    "Será que podemos criar uma combinação de A e B que diminuam ao máximo o erro?"
   ]
  },
  {
   "cell_type": "code",
   "execution_count": 149,
   "id": "fbf3c187-46d3-4974-9e47-4e3fd6c6522d",
   "metadata": {},
   "outputs": [],
   "source": [
    "def predict(x,beta,coef_):\n",
    "    return (x*beta) + coef_"
   ]
  },
  {
   "cell_type": "code",
   "execution_count": 150,
   "id": "ebd46cf0-7017-4838-b584-9d0047927e31",
   "metadata": {},
   "outputs": [
    {
     "data": {
      "text/plain": [
       "39351.37976129991"
      ]
     },
     "execution_count": 150,
     "metadata": {},
     "output_type": "execute_result"
    }
   ],
   "source": [
    "medir_resultado(y,predict(x,100,400))"
   ]
  },
  {
   "cell_type": "code",
   "execution_count": 151,
   "id": "8e43d2da-010a-49ba-8506-5bd4b67ac9ac",
   "metadata": {},
   "outputs": [
    {
     "data": {
      "text/plain": [
       "True"
      ]
     },
     "execution_count": 151,
     "metadata": {},
     "output_type": "execute_result"
    }
   ],
   "source": [
    "2729.8802594847116 < 39351.37976129991"
   ]
  },
  {
   "cell_type": "markdown",
   "id": "496e7fe5-f076-477b-8cfe-0cc0a23e225d",
   "metadata": {},
   "source": [
    "Então a regra :\n",
    "\n",
    "> y = 100*x+400\n",
    "\n",
    "É melhor que chutar sempre pela média. Então qual é a melhor combinação de valores de beta e coef_ para minimizar o erro?"
   ]
  },
  {
   "cell_type": "code",
   "execution_count": 171,
   "id": "9c03eeff-7f05-4ed3-a0f6-a88df3778826",
   "metadata": {},
   "outputs": [],
   "source": [
    "pesos = np.arange(-500,500).tolist()\n",
    "coefs = np.arange(100,200).tolist()"
   ]
  },
  {
   "cell_type": "code",
   "execution_count": 172,
   "id": "5c84a324-ee99-443e-b6df-be5d5f666c6e",
   "metadata": {},
   "outputs": [
    {
     "name": "stderr",
     "output_type": "stream",
     "text": [
      "100000it [00:01, 90210.81it/s]\n"
     ]
    }
   ],
   "source": [
    "combinacoes = product(pesos,coefs)\n",
    "resultados = []\n",
    "\n",
    "for peso,coef in tqdm(combinacoes):\n",
    "    predito = predict(x,beta=peso,coef_=coef)\n",
    "    resultado = medir_resultado(y,predito)\n",
    "    resultados.append(resultado)\n",
    "else:\n",
    "    resultados = np.array(resultados)"
   ]
  },
  {
   "cell_type": "code",
   "execution_count": 173,
   "id": "43aef3e9-336c-4736-85b5-892852bd5b53",
   "metadata": {},
   "outputs": [
    {
     "data": {
      "text/plain": [
       "[<matplotlib.lines.Line2D at 0x7fe1d01ee370>]"
      ]
     },
     "execution_count": 173,
     "metadata": {},
     "output_type": "execute_result"
    },
    {
     "data": {
      "image/png": "[encoded data removed]",
      "text/plain": [
       "<Figure size 432x288 with 1 Axes>"
      ]
     },
     "metadata": {
      "needs_background": "light"
     },
     "output_type": "display_data"
    }
   ],
   "source": [
    "plt.plot(resultados)"
   ]
  },
  {
   "cell_type": "code",
   "execution_count": 180,
   "id": "9b847672-7c2e-404a-be38-4b1a0d5dc0a9",
   "metadata": {},
   "outputs": [
    {
     "data": {
      "text/plain": [
       "722.4910859446006"
      ]
     },
     "execution_count": 180,
     "metadata": {},
     "output_type": "execute_result"
    }
   ],
   "source": [
    "## o menor erro\n",
    "resultados.min()"
   ]
  },
  {
   "cell_type": "code",
   "execution_count": 181,
   "id": "fc388a39-40a2-465a-9f57-a50821faa6e6",
   "metadata": {},
   "outputs": [
    {
     "data": {
      "text/plain": [
       "54999"
      ]
     },
     "execution_count": 181,
     "metadata": {},
     "output_type": "execute_result"
    }
   ],
   "source": [
    "## o índice do menor erro\n",
    "resultados.argmin()"
   ]
  },
  {
   "cell_type": "markdown",
   "id": "f121492f-1c99-485e-b4a2-bebc1863dc97",
   "metadata": {},
   "source": [
    "O índice do menor erro é 54999, logo a melhor combinação deve ser a 54999 combinação."
   ]
  },
  {
   "cell_type": "code",
   "execution_count": 182,
   "id": "6c19b3f4-8825-452b-8c09-5f77ab19063e",
   "metadata": {},
   "outputs": [
    {
     "data": {
      "text/plain": [
       "(49, 199)"
      ]
     },
     "execution_count": 182,
     "metadata": {},
     "output_type": "execute_result"
    }
   ],
   "source": [
    "melhor = list(product(pesos,coefs))[54999]\n",
    "melhor"
   ]
  },
  {
   "cell_type": "markdown",
   "id": "63f1c9c2-31b2-4df1-88c2-7561f019cbb2",
   "metadata": {},
   "source": [
    "Logo, o melhor beta é 49 e o melhor coef é 199"
   ]
  },
  {
   "cell_type": "code",
   "execution_count": 183,
   "id": "c4028bfc-6f73-4ce0-8f23-832cfe7cd9e4",
   "metadata": {},
   "outputs": [
    {
     "data": {
      "image/png": "[encoded data removed]",
      "text/plain": [
       "<Figure size 360x360 with 1 Axes>"
      ]
     },
     "metadata": {
      "needs_background": "light"
     },
     "output_type": "display_data"
    }
   ],
   "source": [
    "g = sns.relplot(x=x,y=y)\n",
    "g.set(xlabel='x',ylabel='y',title=f'erro : {medir_resultado(y,predict(x,49,199))}')\n",
    "sns.lineplot(x=x,y=predict(x,49,199),color='black',ls='--',label=f'Melhor regra')\n",
    "plt.legend()\n",
    "plt.show()"
   ]
  }
 ],
 "metadata": {
  "kernelspec": {
   "display_name": "Python 3",
   "language": "python",
   "name": "python3"
  },
  "language_info": {
   "codemirror_mode": {
    "name": "ipython",
    "version": 3
   },
   "file_extension": ".py",
   "mimetype": "text/x-python",
   "name": "python",
   "nbconvert_exporter": "python",
   "pygments_lexer": "ipython3",
   "version": "3.8.5"
  }
 },
 "nbformat": 4,
 "nbformat_minor": 5
}
